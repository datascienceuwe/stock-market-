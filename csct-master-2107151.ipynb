{
 "cells": [
  {
   "attachments": {},
   "cell_type": "markdown",
   "metadata": {},
   "source": [
    "# Stock Market Prediction Using Different Timeseries Analysis Techniques Using R"
   ]
  },
  {
   "cell_type": "markdown",
   "metadata": {},
   "source": [
    "# Data gathering & understanding"
   ]
  },
  {
   "attachments": {},
   "cell_type": "markdown",
   "metadata": {},
   "source": [
    " We have used getSymbol() of R to fetch data from yahoo. Our focus in the study is European Stock Market, (FTSE, CAC, DAX, IBEX, STOXX). As the dataset has date column with fixed intervals it can be looked upon as Timw Series. The Object is of class 'xts'. Each Dataset have 6 properties, (open, high, low, close, volume, and adjusted) where we will use closing values for forecasting."
   ]
  },
  {
   "cell_type": "markdown",
   "metadata": {},
   "source": [
    "# Time series introduction"
   ]
  },
  {
   "attachments": {},
   "cell_type": "markdown",
   "metadata": {},
   "source": [
    "## What is TimeSeries?\n",
    "\n",
    "A time series is a sequence of data points that occur in successive order over some period of time. This can be contrasted with cross-sectional data, which captures a point in time. A time series allows one to see what factors influence certain variables from period to period\n",
    "\n",
    "## Types of TimeSeries\n",
    "\n",
    "Regular Time Series - Specific Intervals between Observations\n",
    "\n",
    "Irregular Time Series - No specific Intervals between observation\n",
    "\n",
    "Univariate Time Series - Timestamp and single variable\n",
    "\n",
    "Multivariate Time Series - Time Stamp and Multiple Variables"
   ]
  },
  {
   "attachments": {},
   "cell_type": "markdown",
   "metadata": {},
   "source": [
    "# Time series components"
   ]
  },
  {
   "attachments": {},
   "cell_type": "markdown",
   "metadata": {},
   "source": [
    "## Secular Trend\n",
    "The linear increasing or decreasing behavior of the series over time.Trend is the change in the series between two adjacent periods, this is an optional component, not necessarily present in all series. Describes movement of long term\n",
    "\n",
    "## Seasonal variation\n",
    "Seasonality is a characteristic of a time series in which the data experiences regular and predictable changes that recur every calendar year. Any predictable fluctuation or pattern that recurs or repeats over a one-year period is said to be seasonal.Seasonality is always of a fixed and known period. Hence, seasonal time series are sometimes called periodic time series.\n",
    "\n",
    "Additive model: yₜ = Level + Trend + Seasonality + Noise\n",
    "Multiplicative model: yₜ = Level x Trend x Seasonality x Noise\n",
    "\n",
    "## Cyclical fluctation \n",
    "A cyclic pattern exists when data exhibit rises and falls that are not of fixed period. The duration of these fluctuations is usually of at least 2 years It corresponds to periodical but not seasonal variation\n",
    "\n",
    "## Irregular variations (noise)\n",
    "The random variation that can not be explained by the model, present in all series to some extent.\n",
    "\n",
    "## Level \n",
    "Level describes the average value of the series\n",
    "\n",
    "## Stationarity\n",
    "\n",
    "Stationary Time Series - A stationary time series is one whose properties do not depend on the time at which the series is observed. Thus, time series with trends, or with seasonality, are not stationary — the trend and seasonality will affect the value of the time series at different times.\n"
   ]
  },
  {
   "cell_type": "markdown",
   "metadata": {},
   "source": [
    "# Algorithms used to Solve this problem\n"
   ]
  },
  {
   "attachments": {},
   "cell_type": "markdown",
   "metadata": {},
   "source": [
    "1. ARIMA\n",
    "2. Holt Winters \n",
    "3. Naive\n",
    "4. Neural Network\n",
    "5. Prophet\n",
    "5. K. Neural Network"
   ]
  },
  {
   "cell_type": "markdown",
   "metadata": {},
   "source": [
    "# Import Libraries"
   ]
  },
  {
   "cell_type": "code",
   "execution_count": 2,
   "id": "61bb9c58",
   "metadata": {},
   "outputs": [
    {
     "ename": "NameError",
     "evalue": "name 'install' is not defined",
     "output_type": "error",
     "traceback": [
      "\u001b[1;31m---------------------------------------------------------------------------\u001b[0m",
      "\u001b[1;31mNameError\u001b[0m                                 Traceback (most recent call last)",
      "\u001b[1;32mc:\\Users\\L460\\Documents\\stockmkt\\lib\\EuStockMarket_forecasting.ipynb Cell 11\u001b[0m in \u001b[0;36m<cell line: 12>\u001b[1;34m()\u001b[0m\n\u001b[0;32m      <a href='vscode-notebook-cell:/c%3A/Users/L460/Documents/stockmkt/lib/EuStockMarket_forecasting.ipynb#X13sZmlsZQ%3D%3D?line=0'>1</a>\u001b[0m \u001b[39m# FitAR library has been archived hence it needs to be installed in the following way\u001b[39;00m\n\u001b[0;32m      <a href='vscode-notebook-cell:/c%3A/Users/L460/Documents/stockmkt/lib/EuStockMarket_forecasting.ipynb#X13sZmlsZQ%3D%3D?line=1'>2</a>\u001b[0m \u001b[39m#  Step 1 Download Rtools\u001b[39;00m\n\u001b[0;32m      <a href='vscode-notebook-cell:/c%3A/Users/L460/Documents/stockmkt/lib/EuStockMarket_forecasting.ipynb#X13sZmlsZQ%3D%3D?line=2'>3</a>\u001b[0m \u001b[39m#Rtools: https://cran.r-project.org/bin/windows/Rtools/\u001b[39;00m\n\u001b[1;32m   (...)\u001b[0m\n\u001b[0;32m      <a href='vscode-notebook-cell:/c%3A/Users/L460/Documents/stockmkt/lib/EuStockMarket_forecasting.ipynb#X13sZmlsZQ%3D%3D?line=8'>9</a>\u001b[0m \u001b[39m#install.packages(packageurl, repos=NULL, type=\"source\", dependencies = TRUE)\u001b[39;00m\n\u001b[0;32m     <a href='vscode-notebook-cell:/c%3A/Users/L460/Documents/stockmkt/lib/EuStockMarket_forecasting.ipynb#X13sZmlsZQ%3D%3D?line=9'>10</a>\u001b[0m \u001b[39m# Install Packages for Libraries.\u001b[39;00m\n\u001b[1;32m---> <a href='vscode-notebook-cell:/c%3A/Users/L460/Documents/stockmkt/lib/EuStockMarket_forecasting.ipynb#X13sZmlsZQ%3D%3D?line=11'>12</a>\u001b[0m install\u001b[39m.\u001b[39mpackages(installr)\n\u001b[0;32m     <a href='vscode-notebook-cell:/c%3A/Users/L460/Documents/stockmkt/lib/EuStockMarket_forecasting.ipynb#X13sZmlsZQ%3D%3D?line=12'>13</a>\u001b[0m install\u001b[39m.\u001b[39mpackages(\u001b[39m\"\u001b[39m\u001b[39mremotes\u001b[39m\u001b[39m\"\u001b[39m)\n\u001b[0;32m     <a href='vscode-notebook-cell:/c%3A/Users/L460/Documents/stockmkt/lib/EuStockMarket_forecasting.ipynb#X13sZmlsZQ%3D%3D?line=13'>14</a>\u001b[0m install\u001b[39m.\u001b[39mpackages(\u001b[39m\"\u001b[39m\u001b[39mvars\u001b[39m\u001b[39m\"\u001b[39m) \n",
      "\u001b[1;31mNameError\u001b[0m: name 'install' is not defined"
     ]
    }
   ],
   "source": [
    "# FitAR library has been archived hence it needs to be installed in the following way\n",
    "#  Step 1 Download Rtools\n",
    "#Rtools: https://cran.r-project.org/bin/windows/Rtools/\n",
    "#  Note: do not select the second checkbox while installation\n",
    "#  R version: >=4.1.0\n",
    "\n",
    "#  Step 2 Installation code\n",
    "#packageurl <- \"https://cran.r-project.org/src/contrib/Archive/FitAR/FitAR_1.94.tar.gz\"\n",
    "#install.packages(packageurl, repos=NULL, type=\"source\", dependencies = TRUE)\n",
    "# Install Packages for Libraries.\n",
    "\n",
    "install.packages(\"installr\")\n",
    "install.packages(\"remotes\")\n",
    "install.packages(\"vars\") \n",
    "install.packages(\"MTS\")\n",
    "install.packages(\"tseries\")\n",
    "install.packages(\"forecast\")\n",
    "library(remotes)\n",
    "install.packages(\"rlang\",\"1.0.6\")\n",
    "install.packages(\"neuralnet\")\n",
    "install.packages(\"tidyverse\")\n",
    "install.packages(\"readr\")\n",
    "install.packages(\"ggplot2\", dependencies = TRUE)\n",
    "install_version(\"FitAR\",\"1.94\")\n",
    "install.packages('Metrics')\n",
    "install.packages(\"highcharter\")\n",
    "install.packages(\"tidyquant\")\n",
    "install.packages(\"DescTools\")\n"
   ]
  },
  {
   "cell_type": "code",
   "execution_count": 1,
   "metadata": {},
   "outputs": [
    {
     "name": "stderr",
     "output_type": "stream",
     "text": [
      "Warning message:\n",
      "\"package 'vars' was built under R version 3.6.3\"Loading required package: MASS\n",
      "Loading required package: strucchange\n",
      "Warning message:\n",
      "\"package 'strucchange' was built under R version 3.6.3\"Loading required package: zoo\n",
      "\n",
      "Attaching package: 'zoo'\n",
      "\n",
      "The following objects are masked from 'package:base':\n",
      "\n",
      "    as.Date, as.Date.numeric\n",
      "\n",
      "Loading required package: sandwich\n",
      "Warning message:\n",
      "\"package 'sandwich' was built under R version 3.6.3\"Loading required package: urca\n",
      "Warning message:\n",
      "\"package 'urca' was built under R version 3.6.3\"Loading required package: lmtest\n",
      "Warning message:\n",
      "\"package 'lmtest' was built under R version 3.6.3\"Warning message:\n",
      "\"package 'MTS' was built under R version 3.6.3\"\n",
      "Attaching package: 'MTS'\n",
      "\n",
      "The following object is masked from 'package:vars':\n",
      "\n",
      "    VAR\n",
      "\n",
      "Warning message:\n",
      "\"package 'tseries' was built under R version 3.6.3\"Registered S3 method overwritten by 'xts':\n",
      "  method     from\n",
      "  as.zoo.xts zoo \n",
      "Registered S3 method overwritten by 'quantmod':\n",
      "  method            from\n",
      "  as.zoo.data.frame zoo \n",
      "Warning message:\n",
      "\"package 'FitAR' was built under R version 3.6.3\"Loading required package: lattice\n",
      "Loading required package: leaps\n",
      "Warning message:\n",
      "\"package 'leaps' was built under R version 3.6.3\"Loading required package: ltsa\n",
      "Loading required package: bestglm\n",
      "Warning message:\n",
      "\"package 'bestglm' was built under R version 3.6.3\"Warning message:\n",
      "\"package 'forecast' was built under R version 3.6.3\"Registered S3 methods overwritten by 'tibble':\n",
      "  method     from  \n",
      "  format.tbl pillar\n",
      "  print.tbl  pillar\n",
      "Registered S3 methods overwritten by 'ggplot2':\n",
      "  method         from \n",
      "  [.quosures     rlang\n",
      "  c.quosures     rlang\n",
      "  print.quosures rlang\n",
      "\n",
      "Attaching package: 'forecast'\n",
      "\n",
      "The following object is masked from 'package:FitAR':\n",
      "\n",
      "    BoxCox\n",
      "\n",
      "Warning message:\n",
      "\"package 'neuralnet' was built under R version 3.6.3\""
     ]
    }
   ],
   "source": [
    "library(Metrics)\n",
    "library(installr)\n",
    "library(remotes)\n",
    "library(vars) \n",
    "library(MTS)\n",
    "library(tseries)\n",
    "library(neuralnet)\n",
    "library(TTR)\n",
    "library(quantmod)\n",
    "library(MASS)\n",
    "library(grid)\n",
    "#remove.packages(\"rlang\")\n",
    "library(ggplot2)\n",
    "library(forecast)\n",
    "library(reshape2)\n",
    "library(FitAR)\n",
    "library(readr)\n",
    "library(zoo)\n",
    "library(xts)\n",
    "library(highcharter)\n",
    "library(tidyquant)\n",
    "library(prophet)\n",
    "#if(!require(tsfknn)) install.packages(\"tsfknn\")\n",
    "library(tsfknn)\n",
    "library(DescTools)\n",
    "\n"
   ]
  },
  {
   "attachments": {},
   "cell_type": "markdown",
   "metadata": {},
   "source": [
    "# Load Dataset\n",
    "\n",
    "getSymbol() from package Quantmod is used to load and manage data from multiple sources.\n",
    "getSymbol(https://www.rdocumentation.org/packages/quantmod/versions/0.4.20/topics/getSymbols)"
   ]
  },
  {
   "cell_type": "code",
   "execution_count": null,
   "id": "733e04aa",
   "metadata": {},
   "outputs": [],
   "source": [
    "stockdataftse <- getSymbols (\"^FTSE\",auto.assign = FALSE, from = \"2009-01-01\", to=\"2022-11-11\")\n",
    "#head(stockdataftse)\n",
    "ftsecovid<- getSymbols (\"^FTSE\",auto.assign = FALSE, from = \"2019-12-12\", to=\"2022-11-11\")\n",
    "na.approx(ftsecovid)\n",
    "\n",
    "stockdatacac <- getSymbols (\"^FCHI\",auto.assign = FALSE, from = \"2009-01-01\", to=\"2022-11-11\")\n",
    "#head(stockdatacac)\n",
    "stockdatadax <- getSymbols (\"DAX\",auto.assign = FALSE, from = \"2009-01-01\", to=\"2022-11-11\")\n",
    "#head(stockdatadax)\n",
    "stockdatastoxx <- getSymbols (\"^STOXX\",auto.assign = FALSE, from = \"2009-01-01\", to=\"2022-11-11\")\n",
    "#head(stockdatastoxx)\n",
    "stockdataibex <- getSymbols (\"^IBEX\",auto.assign = FALSE, from = \"2009-01-01\", to=\"2022-11-11\")\n",
    "#head(stockdataibex)\n",
    "\n"
   ]
  },
  {
   "attachments": {},
   "cell_type": "markdown",
   "metadata": {},
   "source": [
    "# EDA\n",
    "\n",
    "Exploratory Data Analysis refers to the critical process of performing initial investigations on data so as to discover patterns,to spot anomalies,to test hypothesis and to check assumptions with the help of summary statistics and graphical representations."
   ]
  },
  {
   "cell_type": "code",
   "execution_count": null,
   "metadata": {},
   "outputs": [],
   "source": [
    "\n",
    "#Missing Value check\n",
    "sum(is.na(stockdataftse))\n",
    "sum(is.na(ftsecovid))\n",
    "sum(is.na(stockdatacac))\n",
    "sum(is.na(stockdatastoxx))\n",
    "sum(is.na(stockdatadax))\n",
    "sum(is.na(stockdataibex))\n",
    "\n",
    "#Frequency Check\n",
    "frequency(stockdataftse)\n",
    "frequency(ftsecovid)\n",
    "frequency(stockdatacac)\n",
    "frequency(stockdatastoxx)\n",
    "frequency(stockdatadax)\n",
    "frequency(stockdataibex)"
   ]
  },
  {
   "attachments": {},
   "cell_type": "markdown",
   "id": "f541cecb",
   "metadata": {},
   "source": [
    "# Visualizing the Data\n",
    "chartSeries() from quantmod package is used to create financial charts\n",
    "chartSeries(https://www.rdocumentation.org/packages/quantmod/versions/0.4.20/topics/chartSeries) "
   ]
  },
  {
   "cell_type": "code",
   "execution_count": null,
   "id": "c339583d",
   "metadata": {},
   "outputs": [],
   "source": [
    "chartSeries(stockdataftse,type=\"line\",name=\"FTSE50 2009-2022\",theme = 'white',TA=\"addSMA(100,col='blue')\")\n",
    "chartSeries(stockdataftse, TA=\"addVo();addBBands();addCCI();addADX()\", subset = '2022-06::', theme = 'white')\n",
    "chartSeries(ftsecovid, \n",
    "            type = \"candlesticks\", \n",
    "            subset = '2020-01::',theme = 'white',\n",
    "            show.grid = TRUE,\n",
    "            major.ticks='auto', minor.ticks=TRUE,\n",
    "            multi.col = FALSE,\n",
    "            TA=c(addMACD(),addSMA(n=100,col = 'blue'),addSMA(n=50,col = 'red'),\n",
    "            addROC(n=200,col = 'blue'),addROC(n=50,col = 'red'))) # rate of change\n",
    "#chartSeries(ftsecovid,name=\"ftse50 2019-2022\",theme = 'white')\n",
    "candleChart(ftsecovid, TA=c(addMACD()), subset = '2019::2020-08', theme = 'white')\n",
    "\n",
    "#chartSeries(stockdatanifty,name=\"NIFTY50 2009-2022\")\n",
    "chartSeries(stockdatacac,name=\"CAC40 2009-2022\")\n",
    "chartSeries(stockdatastoxx,name=\"STOXX 2009-2022\")\n",
    "chartSeries(stockdatadax,name=\"DAX 2009-2022\")\n",
    "chartSeries(stockdataibex,name=\"IBEX.35 2009-2022\")\n",
    "#since dax has data after year 2014 we are not using it further"
   ]
  },
  {
   "attachments": {},
   "cell_type": "markdown",
   "id": "6f020bdf",
   "metadata": {},
   "source": [
    "creating dataframes for only closing prices of stock indices"
   ]
  },
  {
   "cell_type": "code",
   "execution_count": null,
   "id": "756f6d20",
   "metadata": {},
   "outputs": [],
   "source": [
    "#take only closing price\n",
    "closing_f = Cl(to.monthly(stockdataftse))\n",
    "closing_fc = Cl(to.monthly(stockdataftse))\n",
    "#closing_n = Cl(to.monthly(stockdatanifty))\n",
    "closing_c = Cl(to.monthly(stockdatacac))\n",
    "closing_s = Cl(to.monthly(stockdatastoxx))\n",
    "closing_i = Cl(to.monthly(stockdataibex))\n",
    "stockdata =merge.xts(closing_c,closing_f,closing_i,closing_fc,closing_s,all=TRUE)\n",
    "head(stockdata)\n",
    "sum(is.na(stockdata))"
   ]
  },
  {
   "attachments": {},
   "cell_type": "markdown",
   "metadata": {},
   "source": [
    "# Visualizing the dynamic Data\n",
    "highchart() for candle stick from quantmod package is used to create financial charts"
   ]
  },
  {
   "cell_type": "code",
   "execution_count": null,
   "metadata": {},
   "outputs": [],
   "source": [
    "zoomarkets <- as.zoo(stockdata)\n",
    "autoplot(zoomarkets, facet = NULL) # plot without facets\n",
    "library(webshot)\n",
    "\n",
    "\n",
    "org <- highchart(type = \"stock\")%>%\n",
    "  hc_add_series(stockdataftse)%>%\n",
    "  hc_add_series(SMA(na.omit(Cl(stockdataftse)),n=50),name=\"SMA(50)\")%>%\n",
    "  hc_add_series(SMA(na.omit(Cl(stockdataftse)),n=200),name=\"SMA(200)\")%>%\n",
    "  hc_title(text=\"FTSE PRICE CANDLE STICK CH 2009-2022\")\n",
    "htmlwidgets::saveWidget(widget = org, file = \"org.html\")\n",
    "getwd()\n",
    "webshot(url = \"org.html\", \n",
    "        file = \"org.png\",\n",
    "        delay=3) # delay will ensure that the whole plot appears in the image\n",
    "#dev.off()\n",
    "highchart(type = \"stock\")%>%\n",
    "  hc_add_series(ftsecovid)%>%\n",
    "  hc_add_series(SMA(na.omit(Cl(ftsecovid)),n=50),name=\"SMA(50)\")%>%\n",
    "  hc_add_series(SMA(na.omit(Cl(ftsecovid)),n=200),name=\"SMA(200)\")%>%\n",
    "  hc_title(text=\"FTSE PRICE CANDLE STICK CH 2009-2022\")\n",
    "highchart(type = \"stock\")%>%\n",
    "  hc_add_series(stockdatanifty)%>%\n",
    "  hc_add_series(SMA(na.omit(Cl(stockdatacac)),n=50),name=\"SMA(50)\")%>%\n",
    "  hc_add_series(SMA(na.omit(Cl(stockdatacac)),n=200),name=\"SMA(200)\")%>%\n",
    "  hc_title(text=\"CAC PRICE CANDLE STICK CH 2009-2022\")\n",
    " org<-highchart(type = \"stock\")%>%\n",
    "  hc_add_series(Cl(stockdataftse),name=\"FTSE\")%>%\n",
    "  hc_add_series(Cl(stockdatacac),name=\"CAC\")%>%\n",
    "  hc_title(text=\"FTSE VS CAC PRICE 2009-2022\")\n",
    "htmlwidgets::saveWidget(widget = org, file = \"org1.html\")\n",
    "getwd()\n",
    "webshot(url = \"org1.html\", \n",
    "        file = \"org1.png\",\n",
    "        delay=3) # delay will ensure that the whole plot appears in the image\n",
    "dev.off()\n"
   ]
  },
  {
   "attachments": {},
   "cell_type": "markdown",
   "id": "0fda8e1f",
   "metadata": {},
   "source": [
    "# STOCK RETURN ANALYSIS"
   ]
  },
  {
   "cell_type": "code",
   "execution_count": null,
   "id": "0c1505ef",
   "metadata": {},
   "outputs": [],
   "source": [
    "#STOCK RETURN ANALYSIS\n",
    "#calculate monthly\n",
    "ftsertn = dailyReturn(Cl(closing_f))\n",
    "cacrtn = dailyReturn(Cl(closing_c))\n",
    "#combine\n",
    "strtns1= data.frame(Date=as.Date(index(ftsertn),format=\"%b %Y\"),coredata(ftsertn))\n",
    "strtns2= data.frame(Date=as.Date(index(cacrtn),format=\"%b %Y\"),coredata(cacrtn))\n",
    "strtns=merge(strtns1,strtns2,by=\"Date\")\n",
    "names(strtns)=c(\"Date\",\"ftse return\",\"cac return\")\n",
    "str(strtns)\n",
    "library(timetk)\n",
    "strtns=xts::xts(strtns[,-1],order.by = strtns$Date)\n",
    "#plot\n",
    "charts.PerformanceSummary(strtns, main = \"ftse vs cac dailyreturn\")"
   ]
  },
  {
   "attachments": {},
   "cell_type": "markdown",
   "id": "2258bd43",
   "metadata": {},
   "source": [
    "## Data Preparation"
   ]
  },
  {
   "cell_type": "code",
   "execution_count": null,
   "id": "6252c44d",
   "metadata": {},
   "outputs": [],
   "source": [
    "#forecast for n days\n",
    "n=60\n",
    "N=2\n",
    "\n",
    "#### TRAIN - TEST SPLIT\n",
    "#library(xts)\n",
    "attr(stockdata,'frequency')<-12\n",
    "stdata <- as.ts(Cl(stockdata), start = c(2009,2))\n",
    "colnames(stdata)=c(\"CAC\",\"FTSE\",\"IBEX\",\"ftsecovid\",\"STOXX\")\n",
    "\n",
    "str(stdata)\n",
    "sum(is.na(stdata))\n",
    "head(stdata)\n",
    "attr(stockdataftse,'frequency')<-260\n",
    "stfse <- as.ts(Cl(stockdataftse), start = c(2009,2))\n",
    "str(stfse)\n",
    "stfse=na.approx(stfse)\n",
    "sum(is.na(stfse))\n",
    "frequency(stfse)\n",
    "ftsecovid = ftsecovid[rowSums(is.na(ftsecovid)) == 0, ]\n",
    "attr(ftsecovid,'frequency')<-260\n",
    "stfsecovid <- as.ts(Cl(ftsecovid), start = c(2019,248))\n",
    "#na.omit(stfsecovid)\n",
    "str(stfsecovid)\n",
    "#stfse=na.approx(stfsecovid)\n",
    "sum(is.na(stfsecovid))\n",
    "frequency(stfsecovid)\n",
    "#drop_na(stfsecovid)"
   ]
  },
  {
   "attachments": {},
   "cell_type": "markdown",
   "id": "bfb413d3",
   "metadata": {},
   "source": [
    "# Data Spit"
   ]
  },
  {
   "cell_type": "code",
   "execution_count": null,
   "id": "06d63f0a",
   "metadata": {},
   "outputs": [],
   "source": [
    "#stockdataftse=na.omit(stockdataftse)\n",
    "FTSEtrain=(head((stfse),length(stfse)-1000))\n",
    "FTSEtest =(tail(stfse,1000))\n",
    "\n",
    "Fcovidtrain=(head((stfsecovid),length(stfsecovid)-200))\n",
    "Fcovidtest =(tail(stfsecovid,200))"
   ]
  },
  {
   "attachments": {},
   "cell_type": "markdown",
   "id": "57f94e7d",
   "metadata": {},
   "source": [
    "## ARIMA MODEL"
   ]
  },
  {
   "attachments": {},
   "cell_type": "markdown",
   "id": "275ef681",
   "metadata": {},
   "source": [
    "# 1. Stationarity test\n",
    "stationary  means, having constant mean and variance over time. If a time series has no trend, constant variance over time, and a consistent autocorrelation structure across time, it is considered to be “stationary.”\n",
    "\n",
    "An augmented Dickey-Fuller test, which uses the following null and alternative hypotheses to determine whether a time series is stationary, is one technique to do so.\n",
    "H0: The time series is non-stationary. we need to make it stationary.\n",
    "HA: The time series is stationary. We can reject the null hypothesis and infer that the time series is stationary if the p-value from the test is less than some significance level (e.g. =0.05).\n",
    "The adf.test(https://www.rdocumentation.org/packages/aTSA/versions/3.1.2/topics/adf.test) function from the tseries package can be used to run an augmented Dickey-Fuller test.\n"
   ]
  },
  {
   "cell_type": "code",
   "execution_count": null,
   "id": "16ea0136",
   "metadata": {},
   "outputs": [],
   "source": [
    "#adf test for stationarity \n",
    "adf.test(FTSEtrain)\n",
    "adf.test(Fcovidtrain)"
   ]
  },
  {
   "attachments": {},
   "cell_type": "markdown",
   "id": "de4955b8",
   "metadata": {},
   "source": [
    "p value is 0.04 that is less than 0.05 hence we can reject null hypotesis and assume data is stationary."
   ]
  },
  {
   "attachments": {},
   "cell_type": "markdown",
   "metadata": {},
   "source": [
    "# Decomposing Time Series\n",
    "\n",
    "Time Series is decomposed to estimate trends,seasonality and random components in the dataset. decompose() is used for it.\n",
    "decompose(https://www.rdocumentation.org/packages/stats/versions/3.6.2/topics/decompose)\n"
   ]
  },
  {
   "cell_type": "code",
   "execution_count": null,
   "metadata": {},
   "outputs": [],
   "source": [
    "#1. additive decompose\n",
    "\n",
    "ftsedc <- decompose(FTSEtrain)#,type = 'additive',filter = NULL)\n",
    "plot(ftsedc)\n",
    "ftsedc1 = FTSEtrain-ftsedc$seasonal\n",
    "\n",
    "ftsecovdc <- decompose(Fcovidtrain)#,type = 'additive',filter = NULL)\n",
    "plot(ftsecovdc)#frequency(FTSE)\n",
    "ftsecovdc1 = Fcovidtrain-ftsecovdc$seasonal\n",
    "\n",
    "#2. Multiplicative Decompose\n",
    "plot(decompose(FTSEtrain,type='multiplicative'))\n",
    "plot(decompose(Fcovidtrain,type='multiplicative'))\n",
    "\n"
   ]
  },
  {
   "attachments": {},
   "cell_type": "markdown",
   "id": "aa965b44",
   "metadata": {},
   "source": [
    "## Stationarity"
   ]
  },
  {
   "cell_type": "code",
   "execution_count": null,
   "id": "ed6eef78",
   "metadata": {},
   "outputs": [],
   "source": [
    "#Testing for Stationarity by applying Augmented Dicker-Fuller Test on all column values of datset\n",
    "#stationary  means, having constant mean and variance over time\n",
    "adf.test(ftsedc1)\n",
    "adf.test(ftsecovdc1)\n",
    "fstnry=diff(ftsedc1,2)\n",
    "fcstnry=diff(ftsecovdc1,2)\n",
    "adf.test(fstnry)\n",
    "adf.test(fcstnry)\n"
   ]
  },
  {
   "attachments": {
    "image.png": {
     "image/png": "[encoded data removed]"
    }
   },
   "cell_type": "markdown",
   "id": "41b599dd",
   "metadata": {},
   "source": [
    "Autocorrelation analysis is an important step in the Exploratory Data Analysis (EDA) of time series. The autocorrelation analysis helps in detecting hidden patterns and seasonality and in checking for randomness. It is especially important when you intend to use an ARIMA model for forecasting because the autocorrelation analysis helps to identify the AR and MA parameters for the ARIMA model.\n",
    "ACF and PACF assume stationarity of the underlying time series. \n",
    "\n",
    "Autocorrelation Function (ACF)\n",
    "Correlation between time series with a lagged version of itself. The correlation between the observation at the current time spot and the observations at previous time spots.The autocorrelation function starts a lag 0, which is the correlation of the time series with itself and therefore results in a correlation of 1.\n",
    "\n",
    "Partial Autocorrelation Function (PACF)\n",
    "Additional correlation explained by each successive lagged term. The correlation between pbservations at two time spots given that we consider both observations are correlated to observations at other time spots.\n",
    "\n",
    "Order of AR, MA, and ARMA Model\n",
    "To determine the order of the model, you can use the following table:\n",
    "\n",
    "![image.png](attachment:image.png)"
   ]
  },
  {
   "cell_type": "code",
   "execution_count": null,
   "id": "81d710b9",
   "metadata": {},
   "outputs": [],
   "source": [
    "#To find the Correlation using Autocorrelation Function and Partial Autocorrelation Function of our series\n",
    "PlotACF(fstnry,  lag.max = 10 * log10(length(fstnry)), main = NULL, cex = NULL)\n",
    "PlotGACF(fstnry, lag.max = 10 * log10(length(fstnry)), type = \"cor\", ylab = NULL)\n",
    "PlotACF(fcstnry, lag.max = 10 * log10(length(fcstnry)), main = NULL, cex = NULL)\n",
    "PlotGACF(fcstnry, lag.max = 10 * log10(length(fcstnry)), type = \"cor\", ylab = NULL)\n",
    "\n"
   ]
  },
  {
   "attachments": {},
   "cell_type": "markdown",
   "id": "6d700af0",
   "metadata": {},
   "source": [
    "## Model\n",
    "auto.arima() Returns best ARIMA model according to either AIC, AICc or BIC value. \n",
    "forecast()  is used to create forecast  for n days.  "
   ]
  },
  {
   "cell_type": "code",
   "execution_count": null,
   "id": "c496d33a",
   "metadata": {},
   "outputs": [],
   "source": [
    "#auto arima\n",
    "fit=auto.arima(ftsedc1, trace=TRUE)\n",
    "plot(forecast(fit,h=n))\n",
    "fit1=auto.arima(ftsecovdc1, trace=TRUE)\n",
    "plot(forecast(fit1,h=n))\n"
   ]
  },
  {
   "attachments": {},
   "cell_type": "markdown",
   "id": "59de88e9",
   "metadata": {},
   "source": [
    "## Fitting arima\n",
    "auto arima gave (0,1,0) as best model"
   ]
  },
  {
   "cell_type": "code",
   "execution_count": null,
   "id": "06549e3e",
   "metadata": {},
   "outputs": [],
   "source": [
    "arimamodelftse <- arima(ftsedc1,order=c(0,1,0))\n",
    "plot(forecast(arimamodelftse,h=n))\n",
    "ftse1 <- arima(ftsedc1,order=c(2,1,2))\n",
    "plot(forecast(ftse1,h=n))\n",
    "ftse2 <- arima(ftsedc1,order=c(1,1,1))\n",
    "plot(forecast(ftse2,h=n))\n",
    "ftse3 <- arima(ftsedc1,order=c(1,1,0))\n",
    "plot(forecast(ftse3,h=n))\n",
    "\n",
    "arimamodelfcovid <- arima(ftsecovdc1,order=c(0,1,0))\n",
    "plot(forecast(arimamodelfcovid,h=n))\n",
    "#arimamodelftsem <- arima(ftsemonthtrain,order=c(0,1,0))\n",
    "\n"
   ]
  },
  {
   "attachments": {},
   "cell_type": "markdown",
   "id": "8d8ca88a",
   "metadata": {},
   "source": [
    "checkresiduals is available in forecast package.: Check that residuals from a time series model look like white noise"
   ]
  },
  {
   "cell_type": "code",
   "execution_count": null,
   "id": "20a92d88",
   "metadata": {},
   "outputs": [],
   "source": [
    "#Visualizing the residuals\n",
    "#plot(arimamodelftse$residuals)\n",
    "#checkresiduals(fit)\n",
    "checkresiduals(arimamodelftse)\n",
    "checkresiduals(arimamodelfcovid)"
   ]
  },
  {
   "attachments": {},
   "cell_type": "markdown",
   "id": "da8493ce",
   "metadata": {},
   "source": [
    "## Box-Pierce and Ljung-Box Tests \n",
    "box.test((https://www.rdocumentation.org/packages/stats/versions/3.6.2/topics/Box.test):) is in stats package in r\n",
    "Compute the Box--Pierce or Ljung--Box test statistic for examining the null hypothesis of independence in a given time series.\n",
    "The Ljun-Box test is a hypothesis test that checks if a time series contains an autocorrelation. The null Hypothesis H0 is that the residuals are independently distributed. The alternative hypothesis is that the residuals are not independently distributed and exhibit a serial correlation.\n",
    "p-value smaller than .01, we can reject the null hypothesis, indicating the time series does contain an autocorrelation."
   ]
  },
  {
   "cell_type": "code",
   "execution_count": null,
   "id": "f78b5480",
   "metadata": {},
   "outputs": [],
   "source": [
    "#Performing Ljung Box  test\n",
    "Box.test(arimamodelftse$residuals,type=\"Ljung-Box\",lag = 520 )\n",
    "Box.test(arimamodelfcovid$residuals,type=\"Ljung-Box\",lag = 520 )\n",
    "#Box.test(arimamodelftsem$residuals,type=\"Ljung-Box\")\n"
   ]
  },
  {
   "cell_type": "code",
   "execution_count": null,
   "metadata": {},
   "outputs": [],
   "source": [
    "predicted_valuesftse = forecast(arimamodelftse,h=1000, level=c(99.5))\n",
    "plot(predicted_valuesftse)\n",
    "predicted_valuesfcovid = forecast(arimamodelfcovid,h=200, level=c(99.5))\n",
    "plot(predicted_valuesfcovid)\n",
    "#predicted_valuesftsem = forecast(arimamodelftsem,h=N, level=c(99.5))\n",
    "#plot(predicted_valuesftsem\n",
    "pftse1=forecast(ftse1,h=1000, level=c(99.5))\n",
    "pftse2=forecast(ftse2,h=1000, level=c(99.5))\n",
    "pftse3=forecast(ftse3,h=1000, level=c(99.5))"
   ]
  },
  {
   "cell_type": "code",
   "execution_count": null,
   "id": "4310fa6c",
   "metadata": {},
   "outputs": [],
   "source": [
    "#predicted_valuesftse = forecast(arimamodelftse,h=1000, level=c(99.5))\n",
    "df_arimaftse = as.data.frame(predicted_valuesftse)\n",
    "arimaftse = df_arimaftse$`Point Forecast`\n",
    "dataftse = as.data.frame(FTSEtest)\n",
    "dataftse$arima = arimaftse\n",
    "colnames(dataftse) = c(\"test\",\"predicted\")\n",
    "dataftse$x = 1:1000\n",
    "dataftse.melted <- melt(dataftse, id=\"x\")\n",
    "qplot(x=x, y=value, color=variable, data=dataftse.melted, geom=\"line\")\n",
    "\n",
    "#predicted_valuesfcovid = forecast(arimamodelfcovid,h=200, level=c(99.5))\n",
    "df_arimafcovid = as.data.frame(predicted_valuesfcovid)\n",
    "arimaftsecov = df_arimafcovid$`Point Forecast`\n",
    "datafcov = as.data.frame(Fcovidtest)\n",
    "datafcov$arima = arimaftsecov\n",
    "colnames(datafcov) = c(\"test\",\"predicted\")\n",
    "datafcov$x = 1:200\n",
    "datafcov.melted <- melt(datafcov, id=\"x\")\n",
    "qplot(x=x, y=value, color=variable, data=dataftse.melted, geom=\"line\")\n"
   ]
  },
  {
   "cell_type": "code",
   "execution_count": null,
   "id": "6bd30220",
   "metadata": {},
   "outputs": [],
   "source": [
    "#create model\n",
    "\n",
    "arimamodelftse %>%\n",
    "  forecast(h=1000+n) %>%\n",
    "  autoplot() + autolayer(FTSEtest,start=length(FTSEtrain),series = \"test data\")\n",
    "\n",
    "\n",
    "arimamodelfcovid %>%\n",
    "  forecast(h=200+n) %>%\n",
    "  autoplot() + autolayer(Fcovidtest,start=length(Fcovidtrain),series = \"test data\")\n"
   ]
  },
  {
   "attachments": {},
   "cell_type": "markdown",
   "id": "3e78ab7c",
   "metadata": {},
   "source": [
    "## Accuracy\n",
    "accuracy function is avalablein forecast package in r: Accuracy measures for a forecast model\n",
    "Returns range of summary measures of the forecast accuracy. If x is provided, the function measures test set forecast accuracy based on x-f. If x is not provided, the function only produces training set accuracy measures of the forecasts based on f[\"x\"]-fitted(f). accuracy(https://www.rdocumentation.org/packages/forecast/versions/8.15/topics/accuracy)\n",
    "The measures calculated are:\n",
    "\n",
    "ME: Mean Error\n",
    "\n",
    "RMSE: Root Mean Squared Error\n",
    "\n",
    "MAE: Mean Absolute Error\n",
    "\n",
    "MPE: Mean Percentage Error\n",
    "\n",
    "MAPE: Mean Absolute Percentage Error\n",
    "\n",
    "MASE: Mean Absolute Scaled Error\n",
    "\n",
    "ACF1: Autocorrelation of errors at lag 1."
   ]
  },
  {
   "cell_type": "code",
   "execution_count": null,
   "id": "cd5ae787",
   "metadata": {},
   "outputs": [],
   "source": [
    "#accuracy train metrics\n",
    "ac_trainmatrix=data.frame()\n",
    "ac_testmatrix=data.frame()\n",
    "ac_trainmatrixcov=data.frame()\n",
    "ac_testmatrixcov=data.frame()"
   ]
  },
  {
   "cell_type": "code",
   "execution_count": null,
   "id": "8ae0e953",
   "metadata": {},
   "outputs": [],
   "source": [
    "print(\"ARIMA(0,1,0) train\")\n",
    "accuracy(predicted_valuesftse)\n",
    "print(\"ARIMA (2,1,2) TRAIN\")\n",
    "accuracy(pftse1)\n",
    "print(\"ARIMA (1,1,1) TRAIN\")\n",
    "accuracy(pftse2)\n",
    "print(\"ARIMA (1,1,0) TRAIN\")\n",
    "accuracy(pftse3)\n"
   ]
  },
  {
   "cell_type": "code",
   "execution_count": null,
   "id": "071ccf47",
   "metadata": {},
   "outputs": [],
   "source": [
    "print(\"train metrics\")\n",
    "ac_trainmatrix = accuracy(predicted_valuesftse)\n",
    "ac_trainmatrixcov = accuracy(predicted_valuesfcovid)\n",
    "ac_trainmatrix\n",
    "#test metrics\n",
    "print(\"test metrics\")\n",
    "ac_testmatrix=accuracy(FTSEtest,arimaftse)\n",
    "ac_testmatrixcov=accuracy(Fcovidtest,arimaftsecov)\n",
    "ac_testmatrix\n"
   ]
  },
  {
   "attachments": {},
   "cell_type": "markdown",
   "id": "bbd98856",
   "metadata": {},
   "source": [
    "# Naive \n",
    "A naive forecast is one in which the forecast for a given period is simply equal to the value observed in the previous period.\n"
   ]
  },
  {
   "cell_type": "code",
   "execution_count": null,
   "id": "8e11a522",
   "metadata": {},
   "outputs": [],
   "source": [
    "ftsena = naive(stfse,h=1000)\n",
    "autoplot(ftsena)+\n",
    "  autolayer(FTSEtest,start = length(FTSEtrain),series=\"FTSE Test Date\")\n",
    "checkresiduals(ftsena)\n",
    "\n",
    "\n",
    "fcovna = naive(stfsecovid,h=200)\n",
    "autoplot(fcovna)+\n",
    "  autolayer(Fcovidtest,start = length(Fcovidtrain),series=\"FTSE covid Test Date\")\n",
    "checkresiduals(fcovna)\n"
   ]
  },
  {
   "cell_type": "code",
   "execution_count": null,
   "id": "02701476",
   "metadata": {},
   "outputs": [],
   "source": [
    "#accuracy(ftsena)\n",
    "ac_trainmatrix=rbind(ac_trainmatrix,accuracy(ftsena))\n",
    "ac_trainmatrix\n",
    "df_ftse = as.data.frame(ftsena)\n",
    "ftnaive= df_ftse$`Point Forecast`\n",
    "####\n",
    "print(paste0(\"RMSE: \", rmse(FTSEtest, ftnaive)))\n",
    "print(paste0(\"MAPE: \", mape(FTSEtest, ftnaive)))\n",
    "ac_testmatrix=rbind(ac_testmatrix,accuracy(FTSEtest,ftnaive))\n",
    "####\n",
    "ac_trainmatrixcov=rbind(ac_trainmatrixcov,accuracy(fcovna))\n",
    "ac_trainmatrixcov\n",
    "df_ftsecov = as.data.frame(fcovna)\n",
    "ftnaivecov= df_ftsecov$`Point Forecast`\n",
    "####\n",
    "ac_testmatrixcov=rbind(ac_testmatrixcov,accuracy(Fcovidtest,ftnaivecov))\n"
   ]
  },
  {
   "attachments": {},
   "cell_type": "markdown",
   "id": "9ee33e19",
   "metadata": {},
   "source": [
    "# Holt Winter\n",
    "HoltWinters(https://www.rdocumentation.org/packages/stats/versions/3.6.2/topics/HoltWinters) is used\n",
    "Computes Holt-Winters Filtering of a given time series. Unknown parameters are determined by minimizing the squared prediction error.\n",
    "\n"
   ]
  },
  {
   "cell_type": "code",
   "execution_count": null,
   "id": "519060b1",
   "metadata": {},
   "outputs": [],
   "source": [
    "## HOLT-WINTERS\n",
    "holtwintermodelftse<-HoltWinters(FTSEtrain,alpha=NULL, beta=NULL, gamma=NULL,seasonal = \"multiplicative\"  )#,gamma=FALSE)\n",
    "f1=(forecast(holtwintermodelftse,h=1000))\n",
    "plot(f1)\n",
    "lines(f1$fitted, lty=2, col=\"purple\")\n",
    "HW=predict(holtwintermodelftse,1000,prediction.interval = TRUE,level=0.95)\n",
    "plot(FTSEtrain)\n",
    "#lines(HW[\"fit\"][,1], lty=2, col=\"blue\")\n",
    "lines(f1$fitted, lty=2, col=\"purple\")\n",
    "lines(HW[,1], col=\"red\")\n",
    "lines(HW[,2], lty=2, col=\"orange\")\n",
    "lines(HW[,3], lty=2, col=\"orange\")\n",
    "\n",
    "\n",
    "#predftse <- as.data.frame(forecast(holtwintermodelftse))\n",
    "holtwintermodelftsecov<-HoltWinters(Fcovidtrain, alpha = NULL,beta=NULL,gamma=NULL)#,gamma=FALSE)\n",
    "f1=(forecast(holtwintermodelftsecov,h=200))\n",
    "plot(f1)\n",
    "lines(f1$fitted, lty=2, col=\"purple\")"
   ]
  },
  {
   "cell_type": "code",
   "execution_count": null,
   "id": "3c252945",
   "metadata": {},
   "outputs": [],
   "source": [
    "# Check residuals\n",
    "acf(f1$residuals, lag.max=20, na.action=na.pass)\n",
    "Box.test(f1$residuals, lag=20, type=\"Ljung-Box\")\n",
    "hist(f1$residuals)\n",
    "#It's important to use na.action=na.pass because the last value of $residuals is always NA, otherwise the function throws an error.\n"
   ]
  },
  {
   "cell_type": "code",
   "execution_count": null,
   "id": "02475a4b",
   "metadata": {},
   "outputs": [],
   "source": [
    "### Holt winters Train Forecast Plot\n",
    "predicted_valuesftse = forecast(holtwintermodelftse,h=1000)\n",
    "plot(predicted_valuesftse)\n",
    "### Holt winters Train Test Forecast Plot\n",
    "df_opftse = as.data.frame(predicted_valuesftse)\n",
    "hwftse = df_opftse$`Point Forecast`\n",
    "dataftse = as.data.frame(FTSEtest)\n",
    "dataftse$arima = hwftse\n",
    "colnames(dataftse) = c(\"test\",\"predicted\")\n",
    "dataftse$x = 1:1000\n",
    "dataftse.melted <- melt(dataftse, id=\"x\")\n",
    "require(ggplot2)\n",
    "qplot(x=x, y=value, color=variable, data=dataftse.melted, geom=\"line\")\n",
    "\n",
    "predicted_valuesfcovid = forecast(holtwintermodelftsecov,h=200)\n",
    "plot(predicted_valuesfcovid)\n",
    "### Holt winters Train Test Forecast Plot\n",
    "df_opftsecov = as.data.frame(predicted_valuesfcovid)\n",
    "hwftsecov = df_opftsecov$`Point Forecast`\n",
    "dataftsecov = as.data.frame(Fcovidtest)\n",
    "dataftsecov$arima = hwftsecov\n",
    "colnames(dataftsecov) = c(\"test\",\"predicted\")\n",
    "dataftsecov$x = 1:200\n",
    "dataftsecov.melted <- melt(dataftsecov, id=\"x\")\n",
    "require(ggplot2)\n",
    "qplot(x=x, y=value, color=variable, data=dataftsecov.melted, geom=\"line\")\n"
   ]
  },
  {
   "cell_type": "code",
   "execution_count": null,
   "id": "3099a218",
   "metadata": {},
   "outputs": [],
   "source": [
    "####plot\n",
    "holtwintermodelftse %>%\n",
    "  forecast(h=1000+n) %>%\n",
    "  autoplot() + autolayer(FTSEtest)\n",
    "holtwintermodelftsecov %>%\n",
    "  forecast(h=200+n) %>%\n",
    "  autoplot() + autolayer(Fcovidtest)\n"
   ]
  },
  {
   "cell_type": "code",
   "execution_count": null,
   "id": "cb5d9aec",
   "metadata": {},
   "outputs": [],
   "source": [
    "#Train Metrics\n",
    "accuracy(predicted_valuesftse)\n",
    "ac_trainmatrix=rbind(ac_trainmatrix,accuracy(predicted_valuesftse))\n",
    "ac_testmatrix=rbind(ac_testmatrix,accuracy(FTSEtest,hwftse))\n",
    "\n",
    "###\n",
    "accuracy(predicted_valuesfcovid)\n",
    "ac_trainmatrixcov=rbind(ac_trainmatrixcov,accuracy(predicted_valuesfcovid))\n",
    "ac_testmatrixcov=rbind(ac_testmatrixcov,accuracy(Fcovidtest,hwftsecov))\n"
   ]
  },
  {
   "attachments": {},
   "cell_type": "markdown",
   "id": "17ca7f63",
   "metadata": {},
   "source": [
    "# Neural Network\n",
    "nnetar(https://www.rdocumentation.org/packages/forecast/versions/8.20/topics/nnetar) Feed-forward neural networks with a single hidden layer and lagged inputs for forecasting univariate time series.\n",
    "A feed-forward neural network is fitted with lagged values of y as inputs and a single hidden layer with size nodes. The inputs are for lags 1 to p, and lags m to mP where m=frequency(y). If xreg is provided, its columns are also used as inputs. If there are missing values in y or xreg, the corresponding rows (and any others which depend on them as lags) are omitted from the fit. A total of repeats networks are fitted, each with random starting weights. These are then averaged when computing forecasts. The network is trained for one-step forecasting. Multi-step forecasts are computed recursively.\n",
    "\n",
    "For non-seasonal data, the fitted model is denoted as an NNAR(p,k) model, where k is the number of hidden nodes. This is analogous to an AR(p) model but with nonlinear functions. For seasonal data, the fitted model is called an NNAR(p,P,k)[m] model, which is analogous to an ARIMA(p,0,0)(P,0,0)[m] model but with nonlinear functions."
   ]
  },
  {
   "cell_type": "code",
   "execution_count": null,
   "id": "be9a532b",
   "metadata": {},
   "outputs": [],
   "source": [
    "neuralnetworkmodelftse <- nnetar(FTSEtrain)\n",
    "plot(forecast(neuralnetworkmodelftse,h=1000))\n",
    "#lines(FTSEtrain)\n",
    "checkresiduals(neuralnetworkmodelftse)\n",
    "\n",
    "neuralnetworkmodelftsecov <- nnetar(Fcovidtrain)\n",
    "plot(forecast(neuralnetworkmodelftsecov,h=200))\n",
    "checkresiduals(neuralnetworkmodelftsecov)\n",
    "\n"
   ]
  },
  {
   "cell_type": "code",
   "execution_count": null,
   "id": "6a43e60b",
   "metadata": {},
   "outputs": [],
   "source": [
    "### Neural Network Train Forecast Plot\n",
    "predicted_valuesftse <- forecast(neuralnetworkmodelftse,1000,level=c(80,95))#,PI=TRUE)\n",
    "plot(predicted_valuesftse)\n",
    "predicted_valuesftsecov <- forecast(neuralnetworkmodelftsecov,200,level=c(80,95))#,PI=TRUE)\n",
    "plot(predicted_valuesftsecov)\n",
    "\n",
    "### Neural Network Train Test Forecast Plot\n",
    "#predicted_values = forecast(neuralnetworkmodel,h=30)\n",
    "df_opftse = as.data.frame(predicted_valuesftse)\n",
    "nnftse = df_opftse$`Point Forecast`\n",
    "dataftse = as.data.frame(FTSEtest)\n",
    "dataftse$arima = nnftse\n",
    "colnames(dataftse) = c(\"test\",\"predicted\")\n",
    "dataftse$x = 1:1000\n",
    "dataftse.melted <- melt(dataftse, id=\"x\")\n",
    "require(ggplot2)\n",
    "qplot(x=x, y=value, color=variable, data=dataftse.melted, geom=\"line\")\n",
    "\n",
    "#predicted_values = forecast(neuralnetworkmodel,h=30)\n",
    "df_opftsecov = as.data.frame(predicted_valuesftsecov)\n",
    "nnftsecov = df_opftsecov$`Point Forecast`\n",
    "dataftsecov = as.data.frame(Fcovidtest)\n",
    "dataftsecov$arima = nnftsecov\n",
    "colnames(dataftsecov) = c(\"test\",\"predicted\")\n",
    "dataftsecov$x = 1:200\n",
    "dataftsecov.melted <- melt(dataftsecov, id=\"x\")\n",
    "require(ggplot2)\n",
    "qplot(x=x, y=value, color=variable, data=dataftsecov.melted, geom=\"line\")\n"
   ]
  },
  {
   "cell_type": "code",
   "execution_count": null,
   "id": "dd95f2cd",
   "metadata": {},
   "outputs": [],
   "source": [
    "neuralnetworkmodelftse %>%\n",
    "  forecast(h=n+n) %>%\n",
    "  autoplot() + autolayer(FTSEtest)\n",
    "\n",
    "\n",
    "neuralnetworkmodelftsecov %>%\n",
    "  forecast(h=n+n) %>%\n",
    "  autoplot() + autolayer(Fcovidtest)\n"
   ]
  },
  {
   "cell_type": "code",
   "execution_count": null,
   "metadata": {},
   "outputs": [],
   "source": [
    "#Train Metrics\n",
    "accuracy(predicted_valuesftse)\n",
    "ac_trainmatrix=rbind(ac_trainmatrix,accuracy(predicted_valuesftse))\n",
    "accuracy(FTSEtest,nnftse)\n",
    "ac_testmatrix=rbind(ac_testmatrix,accuracy(FTSEtest,nnftse))\n",
    "\n",
    "#Train Metrics\n",
    "accuracy(predicted_valuesftsecov)\n",
    "ac_trainmatrixcov=rbind(ac_trainmatrixcov,accuracy(predicted_valuesftsecov))\n",
    "accuracy(Fcovidtest,nnftsecov)\n",
    "ac_testmatrixcov=rbind(ac_testmatrixcov,accuracy(Fcovidtest,nnftsecov))\n"
   ]
  },
  {
   "attachments": {},
   "cell_type": "markdown",
   "id": "943a10c1",
   "metadata": {},
   "source": [
    "# Prophet\n",
    "Prophet is a forecasting procedure implemented in R and Python. It is fast and provides completely automated forecasts that can be tuned by hand by data scientists and analysts. Implements a procedure for forecasting time series data based on an additive model where non-linear trends are fit with yearly, weekly, and daily seasonality, plus holiday effects. It works best with time series that have strong seasonal effects and several seasons of historical data. Prophet is robust to missing data and shifts in the trend, and typically handles outliers well"
   ]
  },
  {
   "cell_type": "code",
   "execution_count": null,
   "id": "c26aaf91",
   "metadata": {},
   "outputs": [],
   "source": [
    "#We convert dataset as prophet input requires\n",
    "df <- data.frame(ds=(index(stockdataftse)),y=as.numeric(stockdataftse[,'FTSE.Close']))\n",
    "#prophet model application\n",
    "library(prophet)\n",
    "str(df)\n",
    "\n",
    "dfcov <- data.frame(ds=(index(ftsecovid)),y=as.numeric(ftsecovid[,'FTSE.Close']))\n",
    "#prophet model application\n",
    "#library(prophet)\n",
    "str(dfcov)\n",
    "\n"
   ]
  },
  {
   "attachments": {},
   "cell_type": "markdown",
   "id": "c7d328d0",
   "metadata": {},
   "source": [
    "make_future_dataframe() Make dataframe with future dates for forecasting. predict() is used for prediction\n",
    "yhat : It contains the prediction/forecast values of the time series model. yhat_lower : It contains the lower bound of the prediction/forecast values. yhat_upper : It contains the upper bound of the prediction/forecast values which are used for forecast() function"
   ]
  },
  {
   "cell_type": "code",
   "execution_count": null,
   "id": "3375f85f",
   "metadata": {},
   "outputs": [],
   "source": [
    "prophetpred <- prophet(df)#,daily.seasonality = TRUE)\n",
    "future <- make_future_dataframe(prophetpred,periods = 260)#, include_history = TRUE)\n",
    "head(future)\n",
    "forecastprophet <- predict(prophetpred, future)\n",
    "head(forecastprophet)\n",
    "fp=forecast(forecastprophet$yhat,h=n)\n",
    "plot(fp)\n",
    "plot(prophetpred,forecastprophet)\n",
    "prophet_plot_components(prophetpred,forecastprophet)\n",
    "###\n",
    "prophetpredcov <- prophet(dfcov)#,daily.seasonality = TRUE)\n",
    "future1 <- make_future_dataframe(prophetpredcov,periods = 260)#, include_history = TRUE)\n",
    "head(future1)\n",
    "forecastprophetcov <- predict(prophetpredcov, future1)\n",
    "head(forecastprophetcov)\n",
    "fpcov=forecast(forecastprophetcov$yhat,h=n)\n",
    "plot(fpcov)\n",
    "plot(prophetpredcov,forecastprophetcov)\n",
    "prophet_plot_components(prophetpredcov,forecastprophetcov)\n",
    "\n"
   ]
  },
  {
   "cell_type": "code",
   "execution_count": null,
   "id": "25b8808b",
   "metadata": {},
   "outputs": [],
   "source": [
    "#Creating train prediction dataset to compare the real data\n",
    "dataprediction <- data.frame(forecastprophet$ds,forecastprophet$yhat)\n",
    "trainlen <- length(stockdataftse)\n",
    "dataprediction <- dataprediction[c(1:trainlen),]\n",
    "tail(forecastprophet[c(\"ds\", \"yhat\", \"yhat_lower\", \"yhat_upper\")])\n",
    "\n",
    "#Creating train prediction dataset to compare the real data\n",
    "datapredictioncov <- data.frame(forecastprophetcov$ds,forecastprophetcov$yhat)\n",
    "trainlencov <- length(ftsecovid)\n",
    "datapredictioncov <- dataprediction[c(1:trainlencov),]\n",
    "tail(forecastprophetcov[c(\"ds\", \"yhat\", \"yhat_lower\", \"yhat_upper\")])\n",
    "\n"
   ]
  },
  {
   "cell_type": "code",
   "execution_count": null,
   "id": "e3a8db18",
   "metadata": {},
   "outputs": [],
   "source": [
    "#Creating cross validation \n",
    "accuracy(fp)\n",
    "#accuracy(forecastprophet$yhat,df$y)\n",
    "ac_trainmatrix=rbind(ac_trainmatrix,accuracy(fp))\n",
    "accuracy(dataprediction$forecastprophet.yhat,df$y)\n",
    "ac_testmatrix=rbind(ac_testmatrix,accuracy(forecastprophet$yhat,df$y))\n",
    "#Creating cross validation \n",
    "accuracy(fpcov)\n",
    "#accuracy(forecastprophetcov$yhat,dfcov$y)\n",
    "ac_trainmatrixcov=rbind(ac_trainmatrixcov,accuracy(fpcov))\n",
    "accuracy(datapredictioncov$forecastprophet.yhat,dfcov$y)\n",
    "ac_testmatrixcov=rbind(ac_testmatrixcov,accuracy(forecastprophetcov$yhat,dfcov$y))\n",
    "\n"
   ]
  },
  {
   "attachments": {},
   "cell_type": "markdown",
   "id": "2fec5f40",
   "metadata": {},
   "source": [
    "# KNN\n",
    "KNN which stand for K Nearest Neighbor is a Supervised Machine Learning algorithm that classifies a new data point into the target class, depending on the features of its neighboring data points.  the KNN algorithm classifies data points based on how similar they are to their neighboring data point. KNN is a non-parametric model which means that it does not make any assumptions about the data set. This makes the algorithm more effective since it can handle realistic data.\n",
    "USES KNN_FORECASTING() from tsfknn package. With the amount of data that we’re generating, the need for advanced Machine Learning Algorithms has increased. One such algorithm is the K Nearest Neighbour algorithm. In this blog on KNN Algorithm In R, you will understand how the KNN algorithm works and its implementation using the R Language. It applies KNN regression to forecast the future values of a time series. The lags used as autoregressive variables are set with the lags parameter. If the user does not set the number of nearest neighbors or the lags, these values are selected automatically."
   ]
  },
  {
   "cell_type": "code",
   "execution_count": null,
   "id": "b895b0c8",
   "metadata": {},
   "outputs": [],
   "source": [
    "#Loading time series forecasting nearest neighbors package\n",
    "if(!require(tsfknn)) install.packages(\"tsfknn\")\n",
    "library(tsfknn)\n",
    "predknn <- knn_forecasting(FTSEtrain, h = 1000, lags = 1:260, k = 50,transform = \"additive\", msas = \"MIMO\", cf=\"mean\")\n",
    "knn_examples(predknn)\n",
    "(predknn$prediction)\n",
    "autoplot(predknn)\n",
    "\n",
    "predknncov <- knn_forecasting(Fcovidtrain, h = 200, lags = 1:260, k = 23,transform = \"additive\", msas = \"MIMO\", cf=\"mean\")\n",
    "knn_examples(predknncov)\n",
    "(predknncov$prediction)\n",
    "plot(predknncov)"
   ]
  },
  {
   "cell_type": "code",
   "execution_count": null,
   "id": "3413eec3",
   "metadata": {},
   "outputs": [],
   "source": [
    "nearest_neighbors(predknn)\n",
    "autoplot(predknn, highlight = \"neighbors\",faceting = FALSE)\n",
    "nearest_neighbors(predknncov)\n",
    "autoplot(predknncov, highlight = \"neighbors\",faceting = FALSE)\n",
    "\n"
   ]
  },
  {
   "cell_type": "code",
   "execution_count": null,
   "id": "a3fc3706",
   "metadata": {},
   "outputs": [],
   "source": [
    "#Train set model accuracy\n",
    "#accuracy(predknn)\n",
    "ro <- rolling_origin(predknn,h=n,rolling = FALSE)\n",
    "#ro$test_sets\n",
    "#ro$predictions\n",
    "#ro$errors\n",
    "print(ro$global_accu)\n",
    "plot(ro,h=n)\n",
    "A=ac_testmatrix\n",
    "RMSE=ro[[\"global_accu\"]][[\"RMSE\"]]\n",
    "MAE=ro[[\"global_accu\"]][[\"MAE\"]]\n",
    "MAPE=ro[[\"global_accu\"]][[\"MAPE\"]]\n",
    "row=c(0,RMSE,MAE,0,MAPE)\n",
    "ac_testmatrix=rbind(ac_testmatrix,row)\n",
    "\n",
    "ro <- rolling_origin(predknncov,h=n,rolling = FALSE)\n",
    "#ro$test_sets\n",
    "#ro$predictions\n",
    "#ro$errors\n",
    "print(ro$global_accu)\n",
    "plot(ro,h=n)\n",
    "A=ac_testmatrixcov\n",
    "RMSE=ro[[\"global_accu\"]][[\"RMSE\"]]\n",
    "MAE=ro[[\"global_accu\"]][[\"MAE\"]]\n",
    "MAPE=ro[[\"global_accu\"]][[\"MAPE\"]]\n",
    "row1=c(0,RMSE,MAE,0,MAPE)\n",
    "ac_testmatrixcov=rbind(ac_testmatrixcov,row1)\n"
   ]
  },
  {
   "cell_type": "code",
   "execution_count": null,
   "id": "4a9f1b13",
   "metadata": {},
   "outputs": [],
   "source": [
    "#Hidden layers creation\n",
    "alpha <- 1.5^(-10)\n",
    "hn <- length(FTSEtrain)/(alpha*(length(FTSEtrain)+n))\n",
    "#Fitting nnetar\n",
    "lambda <- BoxCox.lambda(FTSEtrain)\n",
    "dnn_pred <- nnetar(FTSEtrain, size= hn, lambda = lambda)\n",
    "#Fitting nnetar\n",
    "dnn_forecast <- forecast(dnn_pred, h= n, PI = TRUE)\n",
    "plot(dnn_forecast)\n",
    "\n",
    "#Hidden layers creation\n",
    "alpha <- 1.5^(-10)\n",
    "hncov <- length(Fcovidtrain)/(alpha*(length(Fcovidtrain)+n))\n",
    "#Fitting nnetar\n",
    "lambda1 <- BoxCox.lambda(Fcovidtrain)\n",
    "dnn_predcov <- nnetar(Fcovidtrain, size= hn, lambda = lambda1)\n",
    "#Fitting nnetar\n",
    "dnn_forecastcov <- forecast(dnn_predcov, h= n, PI = TRUE)\n",
    "plot(dnn_forecastcov)\n"
   ]
  },
  {
   "cell_type": "code",
   "execution_count": null,
   "id": "620af380",
   "metadata": {},
   "outputs": [],
   "source": [
    "### Neural Network Train Forecast Plot\n",
    "predicted_valuesftse <- dnn_forecast\n",
    "plot(predicted_valuesftse)\n",
    "### Neural Network Train Test Forecast Plot\n",
    "#predicted_values = forecast(neuralnetworkmodel,h=30)\n",
    "df_opftse = as.data.frame(predicted_valuesftse)\n",
    "dnnftse = df_opftse$`Point Forecast`\n",
    "dataftse = as.data.frame(FTSEtest)\n",
    "dataftse$arima = dnnftse\n",
    "colnames(dataftse) = c(\"test\",\"predicted\")\n",
    "dataftse$x = 1:n\n",
    "dataftse.melted <- melt(dataftse, id=\"x\")\n",
    "require(ggplot2)\n",
    "qplot(x=x, y=value, color=variable, data=dataftse.melted, geom=\"line\")\n",
    "\n",
    "###########\n",
    "predicted_valuesftsecov <- dnn_forecastcov\n",
    "plot(predicted_valuesftsecov)\n",
    "### Neural Network Train Test Forecast Plot\n",
    "#predicted_values = forecast(neuralnetworkmodel,h=30)\n",
    "df_opftsecov = as.data.frame(predicted_valuesftsecov)\n",
    "dnnftsecov = df_opftsecov$`Point Forecast`\n",
    "dataftsecov = as.data.frame(Fcovidtest)\n",
    "dataftsecov$arima = dnnftsecov\n",
    "colnames(dataftsecov) = c(\"test\",\"predicted\")\n",
    "dataftsecov$x = 1:n\n",
    "dataftsecov.melted <- melt(dataftsecov, id=\"x\")\n",
    "require(ggplot2)\n",
    "qplot(x=x, y=value, color=variable, data=dataftsecov.melted, geom=\"line\")\n",
    "\n",
    "#accuracy(dnn_forecast)\n",
    "#ac_trainmatrix=rbind(ac_trainmatrix,accuracy(dnn_forecast))\n",
    "#accuracy(dnn_forecast[[\"call\"]][[\"y\"]],dnn_forecast)\n"
   ]
  },
  {
   "cell_type": "code",
   "execution_count": null,
   "id": "9b5ce113",
   "metadata": {},
   "outputs": [],
   "source": [
    "#final train test predict model\n",
    "dnn_pred %>%\n",
    "  forecast(h=n+n) %>%\n",
    "  autoplot() + autolayer(FTSEtest)\n",
    "\n",
    "dnn_predcov %>%\n",
    "  forecast(h=n+n) %>%\n",
    "  autoplot() + autolayer(Fcovidtest)\n",
    "\n"
   ]
  },
  {
   "cell_type": "code",
   "execution_count": null,
   "id": "8fca2dee",
   "metadata": {},
   "outputs": [],
   "source": [
    "#accuracy metrics\n",
    "accuracy(predicted_valuesftse)\n",
    "ac_trainmatrix=rbind(ac_trainmatrix,accuracy(predicted_valuesftse))\n",
    "accuracy(FTSEtest,dnnftse)\n",
    "ac_testmatrix=rbind(ac_testmatrix,accuracy(FTSEtest,nnftse))\n",
    "\n",
    "accuracy(predicted_valuesftsecov)\n",
    "ac_trainmatrixcov=rbind(ac_trainmatrixcov,accuracy(predicted_valuesftsecov))\n",
    "accuracy(Fcovidtest,dnnftsecov)\n",
    "ac_testmatrixcov=rbind(ac_testmatrixcov,accuracy(Fcovidtest,nnftsecov))\n"
   ]
  },
  {
   "cell_type": "code",
   "execution_count": null,
   "id": "75fe64ee",
   "metadata": {},
   "outputs": [],
   "source": [
    "#ac_trainmatrix=unique(ac_trainmatrix)#[!(row.names(ac_trainmatrix)==\"Training.set.3\")]\n",
    "#chk#.drop(\"Training.set.3\")\n",
    "model=c(\"arima\",\"naive\",\"hw\",\"nn\",\"prophet\")\n",
    "ac_trainmatrix=cbind(model,ac_trainmatrix)\n",
    "ac_trainmatrix\n",
    "write.csv(ac_trainmatrix,\"metrix.csv\",row.names = FALSE)\n",
    "model=c(\"arima\",\"naive\",\"hw\",\"nn\",\"prophet\",\"knn\")\n",
    "ac_testmatrix=cbind(model,ac_testmatrix)\n",
    "ac_testmatrix\n",
    "write.csv(ac_testmatrix,\"testmetrix.csv\",row.names = FALSE)\n",
    "\n",
    "model=c(\"arima\",\"naive\",\"hw\",\"nn\",\"prophet\")\n",
    "ac_trainmatrixcov=cbind(model,ac_trainmatrixcov)\n",
    "ac_trainmatrixcov\n",
    "write.csv(ac_trainmatrixcov,\"covmetrix.csv\",row.names = FALSE)\n",
    "model=c(\"arima\",\"naive\",\"hw\",\"nn\",\"prophet\",\"knn\")\n",
    "ac_testmatrixcov=cbind(model,ac_testmatrixcov)\n",
    "ac_testmatrixcov\n",
    "write.csv(ac_testmatrixcov,\"covtestmetrix.csv\",row.names = FALSE)\n",
    "\n"
   ]
  },
  {
   "attachments": {},
   "cell_type": "markdown",
   "id": "7abab666",
   "metadata": {},
   "source": [
    "# Final Model comparision\n"
   ]
  },
  {
   "cell_type": "code",
   "execution_count": null,
   "id": "ede38830",
   "metadata": {},
   "outputs": [],
   "source": [
    "a= read_csv(\"~/stockmkt/lib/metrix.csv\")\n",
    "B=read_csv(\"~/stockmkt/lib/testmetrix.csv\")\n",
    "c= read_csv(\"~/stockmkt/lib/covmetrix.csv\")\n",
    "d=read_csv(\"~/stockmkt/lib/covtestmetrix.csv\")\n",
    "\n",
    "dd_m = reshape2::melt(a, c(\"model\"))\n",
    "head(dd_m, 2)\n",
    "ggplot(dd_m) + \n",
    "  geom_bar(aes(x=variable, y=value, fill=model), \n",
    "              stat=\"identity\", # Don't transform the data\n",
    "              position = \"dodge\" )+ggtitle(\"ftse train\")  # Dodge the bars\n",
    "ggplot(dd_m) + \n",
    "  geom_bar(aes(x=value, y=model, fill=variable), \n",
    "              stat=\"identity\", # Don't transform the data\n",
    "              position = \"dodge\") +ggtitle(\"ftse train\")# Dodge the bars\n",
    "\n",
    "dd_m = reshape2::melt(B, c(\"model\"))\n",
    "head(dd_m, 2)\n",
    "ggplot(dd_m) + \n",
    "  geom_bar(aes(x=variable, y=value, fill=model), \n",
    "              stat=\"identity\", # Don't transform the data\n",
    "              position = \"dodge\") +ggtitle(\"ftse test\")# Dodge the bars\n",
    "\n",
    "ggplot(dd_m) + \n",
    "  geom_bar(aes(x=value, y=model, fill=variable), \n",
    "              stat=\"identity\", # Don't transform the data\n",
    "              position = \"dodge\")+ggtitle(\"ftse test\") # Dodge the bars\n",
    "\n",
    "\n",
    "\n",
    "\n",
    "dd_m = reshape2::melt(c, c(\"model\"))\n",
    "head(dd_m, 2)\n",
    "ggplot(dd_m) + \n",
    "  geom_bar(aes(x=variable, y=value, fill=model), \n",
    "              stat=\"identity\", # Don't transform the data\n",
    "              position = \"dodge\") +ggtitle(\"ftsecov train\")# Dodge the bars\n",
    "\n",
    "ggplot(dd_m) + \n",
    "  geom_bar(aes(x=value, y=model, fill=variable), \n",
    "              stat=\"identity\", # Don't transform the data\n",
    "              position = \"dodge\") +ggtitle(\"ftsecov train\")# Dodge the bars\n",
    "\n",
    "dd_m = reshape2::melt(d, c(\"model\"))\n",
    "head(dd_m, 2)\n",
    "ggplot(dd_m) + \n",
    "  geom_bar(aes(x=variable, y=value, fill=model), \n",
    "              stat=\"identity\", # Don't transform the data\n",
    "              position = \"dodge\") +ggtitle(\"ftse cov test\")# Dodge the bars\n",
    "\n",
    "ggplot(dd_m) + \n",
    "  geom_bar(aes(x=value, y=model, fill=variable), \n",
    "              stat=\"identity\", # Don't transform the data\n",
    "              position = \"dodge\") +ggtitle(\"ftse cov test\")# Dodge the bars\n",
    "\n"
   ]
  },
  {
   "cell_type": "markdown",
   "id": "816dab56",
   "metadata": {},
   "source": []
  },
  {
   "attachments": {},
   "cell_type": "markdown",
   "metadata": {},
   "source": [
    "end of code below is still to edit"
   ]
  },
  {
   "cell_type": "markdown",
   "metadata": {},
   "source": [
    "# Final Comparison"
   ]
  },
  {
   "cell_type": "markdown",
   "metadata": {},
   "source": [
    "### Based on the above models\n",
    "\n",
    "MAPE values for various models on test data set are as follows:\n",
    "\n",
    "ARIMA:0.072\n",
    "\n",
    "HOLT WINTERS:0.039\n",
    "\n",
    "VAR:0.067\n",
    "\n",
    "NEURAL NETWORK:0.058\n",
    "\n",
    "As above results indicate that HOLT WINTERS has lesser MAPE hence recommended model for this Problem statement "
   ]
  },
  {
   "cell_type": "code",
   "execution_count": null,
   "metadata": {},
   "outputs": [],
   "source": [
    "rehgdf"
   ]
  }
 ],
 "metadata": {
  "kernelspec": {
   "display_name": "Python 3",
   "language": "python",
   "name": "python3"
  },
  "language_info": {
   "codemirror_mode": {
    "name": "ipython",
    "version": 3
   },
   "file_extension": ".py",
   "mimetype": "text/x-python",
   "name": "python",
   "nbconvert_exporter": "python",
   "pygments_lexer": "ipython3",
   "version": "3.9.13"
  },
  "vscode": {
   "interpreter": {
    "hash": "675ad4a91500a0e06a52f27239c92c72b1f896095ee3d6dcd388f69f10725e1e"
   }
  }
 },
 "nbformat": 4,
 "nbformat_minor": 5
}
